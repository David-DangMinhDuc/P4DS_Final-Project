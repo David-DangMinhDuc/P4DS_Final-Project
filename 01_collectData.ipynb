{
 "cells": [
  {
   "cell_type": "markdown",
   "id": "41aea9e3-51cd-4579-90d8-1fe60af27606",
   "metadata": {},
   "source": [
    "## Data collecting ##"
   ]
  },
  {
   "cell_type": "markdown",
   "id": "c960c4ce-6787-4254-b301-016dbf4ce344",
   "metadata": {},
   "source": [
    "#### **1. Thông tin về dữ liệu** ####"
   ]
  },
  {
   "cell_type": "markdown",
   "id": "405c5373-968f-4190-99e9-157d0b82c41d",
   "metadata": {},
   "source": [
    "- **Chủ đề**: FPL Tweets Dataset\n",
    "- **Tác giả**: [Prasad Patil](https://www.kaggle.com/prasad22)\n",
    "- **Nguồn của dữ liệu**: [Kaggle](https://www.kaggle.com/datasets/prasad22/fpl-tweets-dataset)\n",
    "- **Ngày cập nhật (lần cuối)**: ngày 09 tháng 04 năm 2023\n",
    "- **Thông tin khác**:\n",
    "    - Dataset này chứa thông tin của 114466 Tweets từ năm 2012 đến 2023, mỗi Tweets đều xuất hiện các từ khóa như ``Fantasy Premier League`` hoặc ``FPL``.\n",
    "    - Các Tweets trong dataset đã được scrape bằng cách sử dụng thư viện snscrape trong Python."
   ]
  },
  {
   "cell_type": "markdown",
   "id": "bcf7dbfd-e027-4e1f-bb40-2261dca55dde",
   "metadata": {},
   "source": [
    "#### **2. Giấy phép của dữ liệu** ####"
   ]
  },
  {
   "cell_type": "markdown",
   "id": "f76e35d5-fc85-4650-9032-47273003a098",
   "metadata": {},
   "source": [
    "- Giấy phép: [CC0: Public Domain](https://creativecommons.org/publicdomain/zero/1.0/).\r",
    "- \n",
    "Vì nguồn này là no copyright nên nhóm em có thể sao chép, chỉnh sửa và phân phối."
   ]
  },
  {
   "cell_type": "markdown",
   "id": "dc279738-cc4f-41ee-ab9c-c586388dc43e",
   "metadata": {},
   "source": [
    "#### **3. Cách tác giả thu thập dữ liệu** ####"
   ]
  },
  {
   "cell_type": "markdown",
   "id": "1db7ed5a-f07a-44a6-8839-75f5daf6ec45",
   "metadata": {},
   "source": [
    "- Tác giả thu thập dữ liệu bằng cách sử dụng thư viện snscrape để cào dữ liệu từ Twitter API mà không bị giới hạn nào.\n",
    "- Tác giả chỉ lấy các Tweets từ năm 2012 đến năm 2023 và cứ mỗi năm tác giả lấy 10k Tweets.\n",
    "- Kết quả: Tác giả đã thu thập được 114,466 Tweets trong vòng khoảng 90 phút."
   ]
  }
 ],
 "metadata": {
  "kernelspec": {
   "display_name": "Python 3 (ipykernel)",
   "language": "python",
   "name": "python3"
  },
  "language_info": {
   "codemirror_mode": {
    "name": "ipython",
    "version": 3
   },
   "file_extension": ".py",
   "mimetype": "text/x-python",
   "name": "python",
   "nbconvert_exporter": "python",
   "pygments_lexer": "ipython3",
   "version": "3.11.6"
  }
 },
 "nbformat": 4,
 "nbformat_minor": 5
}
