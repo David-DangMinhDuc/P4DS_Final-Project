{
 "cells": [
  {
   "cell_type": "markdown",
   "id": "070cf5b9-790d-42d4-9c89-2b805f98aa49",
   "metadata": {},
   "source": [
    "## **Exploring Data** ##"
   ]
  },
  {
   "cell_type": "code",
   "execution_count": 1,
   "id": "c005ab1e-33c7-4872-b3b5-5cfc8a05b4ec",
   "metadata": {},
   "outputs": [],
   "source": [
    "import pandas as pd"
   ]
  },
  {
   "cell_type": "code",
   "execution_count": 3,
   "id": "31db09d3-ee64-4347-8260-344ec698c5eb",
   "metadata": {},
   "outputs": [],
   "source": [
    "data = pd.read_csv('Data/FPL_tweets.csv', delimiter=',')"
   ]
  },
  {
   "cell_type": "code",
   "execution_count": null,
   "id": "59999037-a70f-4ab5-a695-8751e0e66b61",
   "metadata": {},
   "outputs": [],
   "source": [
    "numeber_rows, number_cols = data.shape\n",
    "\n",
    "print(f'Dữ liệu có số dòng là: {numeber_rows}')\n",
    "print(f'Dữ liệu có số cột là: {number_cols}')"
   ]
  },
  {
   "cell_type": "code",
   "execution_count": 7,
   "id": "bf562469-a3fa-4889-b691-1dcbad8c5a08",
   "metadata": {
    "scrolled": true
   },
   "outputs": [
    {
     "data": {
      "text/html": [
       "<div>\n",
       "<style scoped>\n",
       "    .dataframe tbody tr th:only-of-type {\n",
       "        vertical-align: middle;\n",
       "    }\n",
       "\n",
       "    .dataframe tbody tr th {\n",
       "        vertical-align: top;\n",
       "    }\n",
       "\n",
       "    .dataframe thead th {\n",
       "        text-align: right;\n",
       "    }\n",
       "</style>\n",
       "<table border=\"1\" class=\"dataframe\">\n",
       "  <thead>\n",
       "    <tr style=\"text-align: right;\">\n",
       "      <th></th>\n",
       "      <th>ID</th>\n",
       "      <th>Timestamp</th>\n",
       "      <th>User</th>\n",
       "      <th>Text</th>\n",
       "      <th>Hashtag</th>\n",
       "      <th>Retweets</th>\n",
       "      <th>Likes</th>\n",
       "      <th>Replies</th>\n",
       "      <th>Source</th>\n",
       "      <th>Location</th>\n",
       "      <th>Verified_Account</th>\n",
       "      <th>Followers</th>\n",
       "      <th>Following</th>\n",
       "    </tr>\n",
       "  </thead>\n",
       "  <tbody>\n",
       "    <tr>\n",
       "      <th>88315</th>\n",
       "      <td>1.306860e+18</td>\n",
       "      <td>2020-09-18 07:55:17+00:00</td>\n",
       "      <td>sotrixbax</td>\n",
       "      <td>You get below average points in fantasy premie...</td>\n",
       "      <td>NaN</td>\n",
       "      <td>4</td>\n",
       "      <td>14</td>\n",
       "      <td>2</td>\n",
       "      <td>&lt;a href=\"http://twitter.com/download/android\" ...</td>\n",
       "      <td>Mugii’s neighbor e Canada</td>\n",
       "      <td>False</td>\n",
       "      <td>83195</td>\n",
       "      <td>25609</td>\n",
       "    </tr>\n",
       "    <tr>\n",
       "      <th>34382</th>\n",
       "      <td>6.550480e+17</td>\n",
       "      <td>2015-10-16 15:50:11+00:00</td>\n",
       "      <td>OneNewsPage_UK</td>\n",
       "      <td>3 top tips for week 9 of Premier League Fantas...</td>\n",
       "      <td>NaN</td>\n",
       "      <td>0</td>\n",
       "      <td>0</td>\n",
       "      <td>0</td>\n",
       "      <td>&lt;a href=\"http://www.onenewspage.co.uk\" rel=\"no...</td>\n",
       "      <td>Brighton, England</td>\n",
       "      <td>False</td>\n",
       "      <td>329</td>\n",
       "      <td>5</td>\n",
       "    </tr>\n",
       "    <tr>\n",
       "      <th>59693</th>\n",
       "      <td>9.045780e+17</td>\n",
       "      <td>2017-09-04 05:33:14+00:00</td>\n",
       "      <td>SwansBlog</td>\n",
       "      <td>Fantasy Premier League tips: Top Fantasy Footb...</td>\n",
       "      <td>['swans']</td>\n",
       "      <td>0</td>\n",
       "      <td>0</td>\n",
       "      <td>0</td>\n",
       "      <td>&lt;a href=\"https://ifttt.com\" rel=\"nofollow\"&gt;IFT...</td>\n",
       "      <td>Swansea</td>\n",
       "      <td>False</td>\n",
       "      <td>6528</td>\n",
       "      <td>1662</td>\n",
       "    </tr>\n",
       "  </tbody>\n",
       "</table>\n",
       "</div>"
      ],
      "text/plain": [
       "                 ID                  Timestamp            User  \\\n",
       "88315  1.306860e+18  2020-09-18 07:55:17+00:00       sotrixbax   \n",
       "34382  6.550480e+17  2015-10-16 15:50:11+00:00  OneNewsPage_UK   \n",
       "59693  9.045780e+17  2017-09-04 05:33:14+00:00       SwansBlog   \n",
       "\n",
       "                                                    Text    Hashtag  Retweets  \\\n",
       "88315  You get below average points in fantasy premie...        NaN         4   \n",
       "34382  3 top tips for week 9 of Premier League Fantas...        NaN         0   \n",
       "59693  Fantasy Premier League tips: Top Fantasy Footb...  ['swans']         0   \n",
       "\n",
       "       Likes  Replies                                             Source  \\\n",
       "88315     14        2  <a href=\"http://twitter.com/download/android\" ...   \n",
       "34382      0        0  <a href=\"http://www.onenewspage.co.uk\" rel=\"no...   \n",
       "59693      0        0  <a href=\"https://ifttt.com\" rel=\"nofollow\">IFT...   \n",
       "\n",
       "                        Location  Verified_Account  Followers  Following  \n",
       "88315  Mugii’s neighbor e Canada             False      83195      25609  \n",
       "34382          Brighton, England             False        329          5  \n",
       "59693                    Swansea             False       6528       1662  "
      ]
     },
     "execution_count": 7,
     "metadata": {},
     "output_type": "execute_result"
    }
   ],
   "source": [
    "data.sample(3)\n",
    "\r\n"
   ]
  },
  {
   "cell_type": "markdown",
   "id": "94e39804-5dd3-4ba4-be9f-90d4f0774d51",
   "metadata": {},
   "source": [
    "Mỗi dòng trong bảng mô tả một tweet riêng biệt, bao gồm thông tin về người đăng, nội dung tweet, tương tác và các chi tiết khác.\r\n",
    "\r\n"
   ]
  },
  {
   "cell_type": "code",
   "execution_count": 5,
   "id": "5954a6f9-5702-4f60-b665-9a32d494acb1",
   "metadata": {},
   "outputs": [
    {
     "data": {
      "text/html": [
       "<div>\n",
       "<style scoped>\n",
       "    .dataframe tbody tr th:only-of-type {\n",
       "        vertical-align: middle;\n",
       "    }\n",
       "\n",
       "    .dataframe tbody tr th {\n",
       "        vertical-align: top;\n",
       "    }\n",
       "\n",
       "    .dataframe thead th {\n",
       "        text-align: right;\n",
       "    }\n",
       "</style>\n",
       "<table border=\"1\" class=\"dataframe\">\n",
       "  <thead>\n",
       "    <tr style=\"text-align: right;\">\n",
       "      <th></th>\n",
       "      <th>ID</th>\n",
       "      <th>Timestamp</th>\n",
       "      <th>User</th>\n",
       "      <th>Text</th>\n",
       "      <th>Hashtag</th>\n",
       "      <th>Retweets</th>\n",
       "      <th>Likes</th>\n",
       "      <th>Replies</th>\n",
       "      <th>Source</th>\n",
       "      <th>Location</th>\n",
       "      <th>Verified_Account</th>\n",
       "      <th>Followers</th>\n",
       "      <th>Following</th>\n",
       "    </tr>\n",
       "  </thead>\n",
       "  <tbody>\n",
       "  </tbody>\n",
       "</table>\n",
       "</div>"
      ],
      "text/plain": [
       "Empty DataFrame\n",
       "Columns: [ID, Timestamp, User, Text, Hashtag, Retweets, Likes, Replies, Source, Location, Verified_Account, Followers, Following]\n",
       "Index: []"
      ]
     },
     "execution_count": 5,
     "metadata": {},
     "output_type": "execute_result"
    }
   ],
   "source": [
    " data[data.duplicated()]"
   ]
  },
  {
   "cell_type": "markdown",
   "id": "f4a332f7-34b2-4e9f-b9ae-f77d547bbb0f",
   "metadata": {},
   "source": [
    "Dữ liệu trên không có dòng nào là trùng nhau"
   ]
  }
 ],
 "metadata": {
  "kernelspec": {
   "display_name": "Python 3 (ipykernel)",
   "language": "python",
   "name": "python3"
  },
  "language_info": {
   "codemirror_mode": {
    "name": "ipython",
    "version": 3
   },
   "file_extension": ".py",
   "mimetype": "text/x-python",
   "name": "python",
   "nbconvert_exporter": "python",
   "pygments_lexer": "ipython3",
   "version": "3.10.8"
  }
 },
 "nbformat": 4,
 "nbformat_minor": 5
}
