{
 "cells": [
  {
   "cell_type": "code",
   "execution_count": null,
   "id": "53a5b431-ff7d-48d8-b029-a81ae630bb0e",
   "metadata": {},
   "outputs": [],
   "source": [
    "import pandas as pd\n",
    "import matplotlib.pyplot as plt"
   ]
  },
  {
   "cell_type": "code",
   "execution_count": null,
   "id": "0d3d56c1-4da4-4e35-8273-593ba5840247",
   "metadata": {},
   "outputs": [],
   "source": [
    "data = pd.read_csv('Data/FPL_tweets.csv', delimiter=',')\n",
    "\n",
    "data['Timestamp'] = pd.to_datetime(data['Timestamp'])\n",
    "data['Year'] = data['Timestamp'].dt.year"
   ]
  }
 ],
 "metadata": {
  "kernelspec": {
   "display_name": "Python 3 (ipykernel)",
   "language": "python",
   "name": "python3"
  },
  "language_info": {
   "codemirror_mode": {
    "name": "ipython",
    "version": 3
   },
   "file_extension": ".py",
   "mimetype": "text/x-python",
   "name": "python",
   "nbconvert_exporter": "python",
   "pygments_lexer": "ipython3",
   "version": "3.10.8"
  }
 },
 "nbformat": 4,
 "nbformat_minor": 5
}
