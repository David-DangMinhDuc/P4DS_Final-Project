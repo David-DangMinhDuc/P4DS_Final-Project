{
 "cells": [
  {
   "cell_type": "markdown",
   "id": "070cf5b9-790d-42d4-9c89-2b805f98aa49",
   "metadata": {},
   "source": [
    "# 1. Exploring and preprocessing data"
   ]
  },
  {
   "cell_type": "markdown",
   "id": "b757c172-30dd-4ee8-9507-886dff766311",
   "metadata": {},
   "source": [
    "## Import các thư viện cần thiết"
   ]
  },
  {
   "cell_type": "code",
   "execution_count": 1,
   "id": "c005ab1e-33c7-4872-b3b5-5cfc8a05b4ec",
   "metadata": {},
   "outputs": [],
   "source": [
    "import pandas as pd\n",
    "import numpy as np\n",
    "import matplotlib.pyplot as plt "
   ]
  },
  {
   "cell_type": "code",
   "execution_count": 2,
   "id": "31db09d3-ee64-4347-8260-344ec698c5eb",
   "metadata": {},
   "outputs": [],
   "source": [
    "# Load dữ liệu vào pandas dataframe\n",
    "data = pd.read_csv('Data/FPL_tweets.csv', delimiter=',')"
   ]
  },
  {
   "cell_type": "markdown",
   "id": "7b0ee0bc-3ab9-4dbf-954a-b69a30b40023",
   "metadata": {},
   "source": [
    "## Dữ liệu có bao nhiêu dòng và cột"
   ]
  },
  {
   "cell_type": "code",
   "execution_count": 3,
   "id": "59999037-a70f-4ab5-a695-8751e0e66b61",
   "metadata": {},
   "outputs": [
    {
     "name": "stdout",
     "output_type": "stream",
     "text": [
      "Dữ liệu có số dòng là: 114466\n",
      "Dữ liệu có số cột là: 13\n"
     ]
    }
   ],
   "source": [
    "number_rows, number_cols = data.shape\n",
    "\n",
    "print(f'Dữ liệu có số dòng là: {number_rows}')\n",
    "print(f'Dữ liệu có số cột là: {number_cols}')"
   ]
  },
  {
   "cell_type": "markdown",
   "id": "5f440c31-2802-4526-a984-7685db285974",
   "metadata": {},
   "source": [
    "## Khám phá dòng của dữ liệu"
   ]
  },
  {
   "cell_type": "markdown",
   "id": "9dd1ae54-56e1-4548-8474-9b2dc2a9ab06",
   "metadata": {},
   "source": [
    "### Ý nghĩa của mỗi dòng"
   ]
  },
  {
   "cell_type": "code",
   "execution_count": 4,
   "id": "bf562469-a3fa-4889-b691-1dcbad8c5a08",
   "metadata": {
    "scrolled": true
   },
   "outputs": [
    {
     "data": {
      "text/html": [
       "<div>\n",
       "<style scoped>\n",
       "    .dataframe tbody tr th:only-of-type {\n",
       "        vertical-align: middle;\n",
       "    }\n",
       "\n",
       "    .dataframe tbody tr th {\n",
       "        vertical-align: top;\n",
       "    }\n",
       "\n",
       "    .dataframe thead th {\n",
       "        text-align: right;\n",
       "    }\n",
       "</style>\n",
       "<table border=\"1\" class=\"dataframe\">\n",
       "  <thead>\n",
       "    <tr style=\"text-align: right;\">\n",
       "      <th></th>\n",
       "      <th>ID</th>\n",
       "      <th>Timestamp</th>\n",
       "      <th>User</th>\n",
       "      <th>Text</th>\n",
       "      <th>Hashtag</th>\n",
       "      <th>Retweets</th>\n",
       "      <th>Likes</th>\n",
       "      <th>Replies</th>\n",
       "      <th>Source</th>\n",
       "      <th>Location</th>\n",
       "      <th>Verified_Account</th>\n",
       "      <th>Followers</th>\n",
       "      <th>Following</th>\n",
       "    </tr>\n",
       "  </thead>\n",
       "  <tbody>\n",
       "    <tr>\n",
       "      <th>82829</th>\n",
       "      <td>1.327160e+18</td>\n",
       "      <td>2020-11-13 08:16:07+00:00</td>\n",
       "      <td>NustaNews</td>\n",
       "      <td>GRD vs BGR Prediction, Dream11 Fantasy Cricket...</td>\n",
       "      <td>['NustaNews', 'TodayNews', 'DailyNews', 'Break...</td>\n",
       "      <td>0</td>\n",
       "      <td>0</td>\n",
       "      <td>0</td>\n",
       "      <td>&lt;a href=\"https://ifttt.com\" rel=\"nofollow\"&gt;IFT...</td>\n",
       "      <td>NaN</td>\n",
       "      <td>False</td>\n",
       "      <td>24</td>\n",
       "      <td>106</td>\n",
       "    </tr>\n",
       "    <tr>\n",
       "      <th>93326</th>\n",
       "      <td>1.443650e+18</td>\n",
       "      <td>2021-09-30 18:45:40+00:00</td>\n",
       "      <td>LeafyDragon_FPL</td>\n",
       "      <td>Hello, I’m now the proud owner of Christopher ...</td>\n",
       "      <td>NaN</td>\n",
       "      <td>0</td>\n",
       "      <td>6</td>\n",
       "      <td>1</td>\n",
       "      <td>&lt;a href=\"http://twitter.com/download/iphone\" r...</td>\n",
       "      <td>Newcastle Upon Tyne</td>\n",
       "      <td>False</td>\n",
       "      <td>2716</td>\n",
       "      <td>1043</td>\n",
       "    </tr>\n",
       "    <tr>\n",
       "      <th>93104</th>\n",
       "      <td>1.445070e+18</td>\n",
       "      <td>2021-10-04 16:39:01+00:00</td>\n",
       "      <td>DanielMVarela</td>\n",
       "      <td>Whatsapp esta mas caído que yo en el Fantasy d...</td>\n",
       "      <td>NaN</td>\n",
       "      <td>0</td>\n",
       "      <td>1</td>\n",
       "      <td>0</td>\n",
       "      <td>&lt;a href=\"https://mobile.twitter.com\" rel=\"nofo...</td>\n",
       "      <td>Bogotá</td>\n",
       "      <td>False</td>\n",
       "      <td>242</td>\n",
       "      <td>636</td>\n",
       "    </tr>\n",
       "  </tbody>\n",
       "</table>\n",
       "</div>"
      ],
      "text/plain": [
       "                 ID                  Timestamp             User  \\\n",
       "82829  1.327160e+18  2020-11-13 08:16:07+00:00        NustaNews   \n",
       "93326  1.443650e+18  2021-09-30 18:45:40+00:00  LeafyDragon_FPL   \n",
       "93104  1.445070e+18  2021-10-04 16:39:01+00:00    DanielMVarela   \n",
       "\n",
       "                                                    Text  \\\n",
       "82829  GRD vs BGR Prediction, Dream11 Fantasy Cricket...   \n",
       "93326  Hello, I’m now the proud owner of Christopher ...   \n",
       "93104  Whatsapp esta mas caído que yo en el Fantasy d...   \n",
       "\n",
       "                                                 Hashtag  Retweets  Likes  \\\n",
       "82829  ['NustaNews', 'TodayNews', 'DailyNews', 'Break...         0      0   \n",
       "93326                                                NaN         0      6   \n",
       "93104                                                NaN         0      1   \n",
       "\n",
       "       Replies                                             Source  \\\n",
       "82829        0  <a href=\"https://ifttt.com\" rel=\"nofollow\">IFT...   \n",
       "93326        1  <a href=\"http://twitter.com/download/iphone\" r...   \n",
       "93104        0  <a href=\"https://mobile.twitter.com\" rel=\"nofo...   \n",
       "\n",
       "                  Location  Verified_Account  Followers  Following  \n",
       "82829                  NaN             False         24        106  \n",
       "93326  Newcastle Upon Tyne             False       2716       1043  \n",
       "93104               Bogotá             False        242        636  "
      ]
     },
     "execution_count": 4,
     "metadata": {},
     "output_type": "execute_result"
    }
   ],
   "source": [
    "# In ra 3 dòng bất kỳ trong tập dữ liệu\n",
    "data.sample(3)"
   ]
  },
  {
   "cell_type": "markdown",
   "id": "94e39804-5dd3-4ba4-be9f-90d4f0774d51",
   "metadata": {},
   "source": [
    "Mỗi dòng trong bảng mô tả một tweet riêng biệt, bao gồm thông tin về người đăng, nội dung tweet, tương tác và các chi tiết khác.\r\n",
    "\r\n"
   ]
  },
  {
   "cell_type": "markdown",
   "id": "4e65f9ea-58c8-477e-81b0-d42bbcaa7a9d",
   "metadata": {},
   "source": [
    "### Có tồn tại các dòng trùng lắp không?"
   ]
  },
  {
   "cell_type": "code",
   "execution_count": 5,
   "id": "5954a6f9-5702-4f60-b665-9a32d494acb1",
   "metadata": {},
   "outputs": [
    {
     "data": {
      "text/html": [
       "<div>\n",
       "<style scoped>\n",
       "    .dataframe tbody tr th:only-of-type {\n",
       "        vertical-align: middle;\n",
       "    }\n",
       "\n",
       "    .dataframe tbody tr th {\n",
       "        vertical-align: top;\n",
       "    }\n",
       "\n",
       "    .dataframe thead th {\n",
       "        text-align: right;\n",
       "    }\n",
       "</style>\n",
       "<table border=\"1\" class=\"dataframe\">\n",
       "  <thead>\n",
       "    <tr style=\"text-align: right;\">\n",
       "      <th></th>\n",
       "      <th>ID</th>\n",
       "      <th>Timestamp</th>\n",
       "      <th>User</th>\n",
       "      <th>Text</th>\n",
       "      <th>Hashtag</th>\n",
       "      <th>Retweets</th>\n",
       "      <th>Likes</th>\n",
       "      <th>Replies</th>\n",
       "      <th>Source</th>\n",
       "      <th>Location</th>\n",
       "      <th>Verified_Account</th>\n",
       "      <th>Followers</th>\n",
       "      <th>Following</th>\n",
       "    </tr>\n",
       "  </thead>\n",
       "  <tbody>\n",
       "  </tbody>\n",
       "</table>\n",
       "</div>"
      ],
      "text/plain": [
       "Empty DataFrame\n",
       "Columns: [ID, Timestamp, User, Text, Hashtag, Retweets, Likes, Replies, Source, Location, Verified_Account, Followers, Following]\n",
       "Index: []"
      ]
     },
     "execution_count": 5,
     "metadata": {},
     "output_type": "execute_result"
    }
   ],
   "source": [
    "data[data.duplicated()]"
   ]
  },
  {
   "cell_type": "markdown",
   "id": "f4a332f7-34b2-4e9f-b9ae-f77d547bbb0f",
   "metadata": {},
   "source": [
    "Dữ liệu trên không có dòng nào là trùng nhau."
   ]
  },
  {
   "cell_type": "markdown",
   "id": "04772520-4b76-44f0-98b9-5b9af53c0672",
   "metadata": {},
   "source": [
    "## Khám phá cột của dữ liệu"
   ]
  },
  {
   "cell_type": "markdown",
   "id": "ec1dacd8-6557-4e3c-8fd3-f485a8fe4de4",
   "metadata": {},
   "source": [
    "### Ý nghĩa của mỗi cột"
   ]
  },
  {
   "cell_type": "markdown",
   "id": "ad9a6e3a-1db5-4bac-a728-1a0454dc779e",
   "metadata": {},
   "source": [
    "| Tên cột  | Ý nghĩa  |\n",
    "|---|---|\n",
    "| ID  | Mã định danh độc nhất cho mỗi tweet  |\n",
    "| Timestamp  | Ngày giờ tweet được đăng tải  |\n",
    "| User  | Tên tài khoản đăng tải tweet  |\n",
    "| Text  | Nội dung của tweet  |\n",
    "| Hashtag  | Hashtag của tweet (nếu có)  |\n",
    "| Retweets  | Số lần tweet được retweet  |\n",
    "| Likes  | Lượt like của tweet |\n",
    "| Replies  | Lượt phản hồi của tweet  |\n",
    "| Source  | Nguồn hoặc thiết bị đăng tải tweet  |\n",
    "| Location  | Địa điểm được đề cập ở hồ sơ của tài khoản đăng tải tweet (nếu có)  |\n",
    "| Verified_Account  | Trạng thái xác minh của tài khoản (TRUE hoặc FALSE)   |\n",
    "| Followers  | Số lượng tài khoản theo dõi của tài khoản đăng tải tweet  |\n",
    "| Following  | Số lượng tài khoản mà tài khoản đăng tải tweet theo dõi |\n",
    "\n",
    "*Thông tin của dữ liệu (likes, replies....) được ghi nhận tại thời điểm thu thập dữ liệu và có thể thay đổi ở thời điểm hiện tại.*"
   ]
  },
  {
   "cell_type": "markdown",
   "id": "52b0a894-fd6c-430e-b02a-e1ab21be189c",
   "metadata": {},
   "source": [
    "### Kiểu dữ liệu của mỗi cột"
   ]
  },
  {
   "cell_type": "code",
   "execution_count": 6,
   "id": "856575ef-eee5-4d25-b277-87cde03639dd",
   "metadata": {},
   "outputs": [
    {
     "data": {
      "text/plain": [
       "ID                  float64\n",
       "Timestamp            object\n",
       "User                 object\n",
       "Text                 object\n",
       "Hashtag              object\n",
       "Retweets              int64\n",
       "Likes                 int64\n",
       "Replies               int64\n",
       "Source               object\n",
       "Location             object\n",
       "Verified_Account       bool\n",
       "Followers             int64\n",
       "Following             int64\n",
       "dtype: object"
      ]
     },
     "execution_count": 6,
     "metadata": {},
     "output_type": "execute_result"
    }
   ],
   "source": [
    "data.dtypes"
   ]
  },
  {
   "cell_type": "markdown",
   "id": "e75e3f74-41ed-4bc7-a9ab-6b8e92adccb1",
   "metadata": {},
   "source": [
    "Để có thể hiểu được rõ hơn về các cột có kiểu dữ liệu object, quá trình phân tách kiểu dữ liệu object sẽ được áp dụng."
   ]
  },
  {
   "cell_type": "code",
   "execution_count": 7,
   "id": "b439f583-1a8d-4fd6-80e1-e4af3796a2b6",
   "metadata": {},
   "outputs": [
    {
     "data": {
      "text/plain": [
       "Timestamp                     {<class 'str'>}\n",
       "User                          {<class 'str'>}\n",
       "Text                          {<class 'str'>}\n",
       "Hashtag      {<class 'float'>, <class 'str'>}\n",
       "Source                        {<class 'str'>}\n",
       "Location     {<class 'float'>, <class 'str'>}\n",
       "dtype: object"
      ]
     },
     "execution_count": 7,
     "metadata": {},
     "output_type": "execute_result"
    }
   ],
   "source": [
    "def open_object_dtype(s):\n",
    "    dtypes = set()\n",
    "    dtypes.update(s.apply(type))\n",
    "    return dtypes\n",
    "\n",
    "data[data.dtypes.index[data.dtypes == object]].apply(open_object_dtype)"
   ]
  },
  {
   "cell_type": "markdown",
   "id": "ee713fd3-9e61-41b5-a8df-0d7dfadb55e9",
   "metadata": {},
   "source": [
    "Để tập dữ liệu được phù hợp, những cột dữ liệu sau cần chuyển kiểu dữ liệu:\n",
    "* ID: kiểu string\n",
    "* Timestamp: kiểu datetime\n",
    "* Hashtag: kiểu python list\n",
    "* Location: dữ liệu ở cột location không được chuẩn hóa (người dùng có thể điền bất kỳ thông tin gì ở cột này) và không thực sự hữu ích nên dữ liệu ở cột này sẽ được giữ nguyên. Có thể in ra mười dòng ngẫu nhiên để thấy rõ hơn điều này."
   ]
  },
  {
   "cell_type": "markdown",
   "id": "656c06a7-4b92-4c3c-80a0-f23c60a483eb",
   "metadata": {},
   "source": [
    "### Tiền xử lý - chuyển kiểu dữ liệu"
   ]
  },
  {
   "cell_type": "code",
   "execution_count": 8,
   "id": "3f9a751c-038b-4fd0-9015-9b05be90304e",
   "metadata": {},
   "outputs": [],
   "source": [
    "# Cột ID\n",
    "data['ID'] = data['ID'].astype(str)\n",
    "\n",
    "# Cột timestamp\n",
    "data['Timestamp'] = pd.to_datetime(data['Timestamp'], utc=True)\n",
    "\n",
    "# Cột hashtag\n",
    "def hashtag_pre(s):\n",
    "    '''\n",
    "    Tiền xử lý dữ liệu ở cột Hashtag (dữ liệu ở biến s):\n",
    "    1. Loại bỏ các ký tự []''\n",
    "    2. Chuyển các phần tử được phân cách bởi dấu phẩy vào list.\n",
    "\n",
    "    Ví dụ thực thi:\n",
    "    >>> test = hashtag_pre(\"['FPL', 'FPLCommunity']\")\n",
    "    >>> test, type(test), len(test)\n",
    "    (['FPL', ' FPLCommunity'], list, 2)\n",
    "    \n",
    "    '''\n",
    "\n",
    "    # Chuyển kiểu dữ liệu sang string\n",
    "    result = str(s)\n",
    "    \n",
    "    # Loại bỏ ký tự\n",
    "    chars = \"[]''\"\n",
    "    for char in chars:\n",
    "        result = result.replace(char, '')\n",
    "\n",
    "    # Lưu trữ kết quả vào list\n",
    "    result = list(result.split(','))\n",
    "    \n",
    "    return result\n",
    "data['Hashtag'] = data['Hashtag'].apply(hashtag_pre)"
   ]
  },
  {
   "cell_type": "markdown",
   "id": "976f764e-ccfd-4f85-989d-9f6103b5aee0",
   "metadata": {},
   "source": [
    "Sau khi thực thi, kiểu dữ liệu của mỗi cột được in ra như sau:"
   ]
  },
  {
   "cell_type": "code",
   "execution_count": 9,
   "id": "29daa89b-3fd5-497e-9662-5a7335f36f19",
   "metadata": {},
   "outputs": [
    {
     "data": {
      "text/plain": [
       "ID                                                    {<class 'str'>}\n",
       "Timestamp           {<class 'pandas._libs.tslibs.timestamps.Timest...\n",
       "User                                                  {<class 'str'>}\n",
       "Text                                                  {<class 'str'>}\n",
       "Hashtag                                              {<class 'list'>}\n",
       "Retweets                                              {<class 'int'>}\n",
       "Likes                                                 {<class 'int'>}\n",
       "Replies                                               {<class 'int'>}\n",
       "Source                                                {<class 'str'>}\n",
       "Location                             {<class 'float'>, <class 'str'>}\n",
       "Verified_Account                                     {<class 'bool'>}\n",
       "Followers                                             {<class 'int'>}\n",
       "Following                                             {<class 'int'>}\n",
       "dtype: object"
      ]
     },
     "execution_count": 9,
     "metadata": {},
     "output_type": "execute_result"
    }
   ],
   "source": [
    "data.apply(open_object_dtype)"
   ]
  },
  {
   "cell_type": "markdown",
   "id": "324a5bc0-3c29-42fc-8a87-d574fc58c708",
   "metadata": {},
   "source": [
    "### Sự phân bố của các cột có kiểu dữ liệu số (numerical)"
   ]
  },
  {
   "cell_type": "markdown",
   "id": "6446b711-d7fb-44ac-9949-663e33564e33",
   "metadata": {},
   "source": [
    "Sử dụng một dataframe để tổng hợp các giá trị bao gồm tỉ lệ missing value, min, Q1(25%), median, Q3(75%) và max của các cột dữ liệu:\n",
    "* Retweets\n",
    "* Likes\n",
    "* Replies\n",
    "* Followers\n",
    "* Following"
   ]
  },
  {
   "cell_type": "code",
   "execution_count": 10,
   "id": "e9682fcb-5294-49d6-a21a-5613833a688c",
   "metadata": {},
   "outputs": [
    {
     "data": {
      "text/html": [
       "<div>\n",
       "<style scoped>\n",
       "    .dataframe tbody tr th:only-of-type {\n",
       "        vertical-align: middle;\n",
       "    }\n",
       "\n",
       "    .dataframe tbody tr th {\n",
       "        vertical-align: top;\n",
       "    }\n",
       "\n",
       "    .dataframe thead th {\n",
       "        text-align: right;\n",
       "    }\n",
       "</style>\n",
       "<table border=\"1\" class=\"dataframe\">\n",
       "  <thead>\n",
       "    <tr style=\"text-align: right;\">\n",
       "      <th></th>\n",
       "      <th>Retweets</th>\n",
       "      <th>Likes</th>\n",
       "      <th>Replies</th>\n",
       "      <th>Followers</th>\n",
       "      <th>Following</th>\n",
       "    </tr>\n",
       "  </thead>\n",
       "  <tbody>\n",
       "    <tr>\n",
       "      <th>Missing percentage</th>\n",
       "      <td>0</td>\n",
       "      <td>0</td>\n",
       "      <td>0</td>\n",
       "      <td>0</td>\n",
       "      <td>0</td>\n",
       "    </tr>\n",
       "    <tr>\n",
       "      <th>Min</th>\n",
       "      <td>0</td>\n",
       "      <td>0</td>\n",
       "      <td>0</td>\n",
       "      <td>0</td>\n",
       "      <td>0</td>\n",
       "    </tr>\n",
       "    <tr>\n",
       "      <th>Q1(25%)</th>\n",
       "      <td>0</td>\n",
       "      <td>0</td>\n",
       "      <td>0</td>\n",
       "      <td>207</td>\n",
       "      <td>174</td>\n",
       "    </tr>\n",
       "    <tr>\n",
       "      <th>Median</th>\n",
       "      <td>0</td>\n",
       "      <td>0</td>\n",
       "      <td>0</td>\n",
       "      <td>667</td>\n",
       "      <td>499</td>\n",
       "    </tr>\n",
       "    <tr>\n",
       "      <th>Q3(75%)</th>\n",
       "      <td>0</td>\n",
       "      <td>1</td>\n",
       "      <td>0</td>\n",
       "      <td>2741</td>\n",
       "      <td>1261</td>\n",
       "    </tr>\n",
       "    <tr>\n",
       "      <th>Max</th>\n",
       "      <td>7805</td>\n",
       "      <td>85997</td>\n",
       "      <td>1317</td>\n",
       "      <td>40007982</td>\n",
       "      <td>235775</td>\n",
       "    </tr>\n",
       "  </tbody>\n",
       "</table>\n",
       "</div>"
      ],
      "text/plain": [
       "                    Retweets  Likes  Replies  Followers  Following\n",
       "Missing percentage         0      0        0          0          0\n",
       "Min                        0      0        0          0          0\n",
       "Q1(25%)                    0      0        0        207        174\n",
       "Median                     0      0        0        667        499\n",
       "Q3(75%)                    0      1        0       2741       1261\n",
       "Max                     7805  85997     1317   40007982     235775"
      ]
     },
     "execution_count": 10,
     "metadata": {},
     "output_type": "execute_result"
    }
   ],
   "source": [
    "numerical_cols = ['Retweets', 'Likes', 'Replies', 'Followers', 'Following']\n",
    "\n",
    "# Tỉ lệ missing value (%)\n",
    "missing_value = np.sum(np.isnan(data[numerical_cols]), axis=0) / data.shape[0] * 100\n",
    "\n",
    "# min, Q1(25%), median, Q3(75%) và max\n",
    "percentile = np.array(np.percentile(data[numerical_cols], [0, 25, 50, 75, 100], axis=0), dtype='uint64')\n",
    "\n",
    "# dataframe phân bố\n",
    "numerical_cols_dist_df = pd.DataFrame( data=[list(missing_value), percentile[0], percentile[1], percentile[2], percentile[3], percentile[4]],\n",
    "                                       index=['Missing percentage', 'Min', 'Q1(25%)', 'Median', 'Q3(75%)', 'Max'],\n",
    "                                       columns=numerical_cols,\n",
    "                                       dtype=int )\n",
    "numerical_cols_dist_df"
   ]
  },
  {
   "cell_type": "markdown",
   "id": "a307eb40-b316-4095-9e86-9521fbf4ff78",
   "metadata": {},
   "source": [
    "#### Nhận xét về sự phân bố dữ liệu\n",
    "\n",
    "* Giá trị missing value ở các cột dữ liệu đều bằng 0 vì các cột này thể hiện các giá trị đếm (lượt tweet, lượt like...) và có giá trị thấp nhất là 0. Missing value chỉ xảy ra với trường hợp dữ liệu là NaN.\n",
    "* Ba cột dữ liệu đầu tiên thể hiện sự tương tác đối với các tweet. Các cột có giá trị min và Q3 gần như là bằng nhau và bằng 0 ở mỗi cột. Để hiểu rõ hơn về sự phân bố dữ liệu ở ba cột này, chúng ta sẽ sắp xếp dữ liệu tăng dần (giảm thiểu tính noisy của dữ liệu) và trực quan với biểu đồ đường."
   ]
  },
  {
   "cell_type": "code",
   "execution_count": 11,
   "id": "451aef10-3a13-435c-bd30-870576be9960",
   "metadata": {},
   "outputs": [
    {
     "data": {
      "image/png": "[encoded data removed]",
      "text/plain": [
       "<Figure size 640x480 with 1 Axes>"
      ]
     },
     "metadata": {},
     "output_type": "display_data"
    }
   ],
   "source": [
    "x = np.arange(0, data.shape[0])\n",
    "plt.plot(x, data['Likes'].sort_values(ascending=True), label = \"Likes\") \n",
    "plt.plot(x, data['Retweets'].sort_values(ascending=True), label = 'Retweets')\n",
    "plt.plot(x, data['Replies'].sort_values(ascending=True), label = 'Replies')\n",
    "plt.xlabel(\"Tweet count\")\n",
    "plt.ylabel(\"Interaction count\")\n",
    "\n",
    "plt.grid()\n",
    "plt.legend() \n",
    "plt.show()"
   ]
  },
  {
   "cell_type": "markdown",
   "id": "5a8987d1-5d8a-4f98-bcb0-ecfa076a9948",
   "metadata": {},
   "source": [
    "* Dựa vào biểu đồ ở trên, chúng ta có thể thấy rằng người dùng có xu hướng sử dụng tương tác like (có thể vì đây là phương thức tương tác dễ thực hiện nhất) và có xu hướng hạn chế bình luận.\n",
    "* Đa số các tweet được tạo ra nhưng không có sự tương tác và số lần tương tác tập trung ở một vài tweet nhất định. Một giả thiết cho hiện tượng này là các sự kiện mà nhà phát hành tổ chức cho trò chơi Fantasy Premier League. Các sự kiện yêu cầu sự tương tác của người chơi (like, chia sẻ sự kiện thông qua tweet, bình luận, sử dụng hashtag) để có thể nhận được vật phẩm từ sự kiện.\n",
    "* Những tương tác tập trung chủ yếu ở các tweet của nhà phát hành (các trang chính thức). Những tweet chia sẻ sự kiện là những tweet không có tính mới mẻ và lặp đi lặp lại nên khó có thể thu hút các người dùng khác."
   ]
  }
 ],
 "metadata": {
  "kernelspec": {
   "display_name": "Python 3 (ipykernel)",
   "language": "python",
   "name": "python3"
  },
  "language_info": {
   "codemirror_mode": {
    "name": "ipython",
    "version": 3
   },
   "file_extension": ".py",
   "mimetype": "text/x-python",
   "name": "python",
   "nbconvert_exporter": "python",
   "pygments_lexer": "ipython3",
   "version": "3.10.8"
  }
 },
 "nbformat": 4,
 "nbformat_minor": 5
}
