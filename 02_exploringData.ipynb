{
 "cells": [
  {
   "cell_type": "markdown",
   "id": "070cf5b9-790d-42d4-9c89-2b805f98aa49",
   "metadata": {},
   "source": [
    "# Exploring and preprocessing data #"
   ]
  },
  {
   "cell_type": "markdown",
   "id": "b757c172-30dd-4ee8-9507-886dff766311",
   "metadata": {},
   "source": [
    "## I - Import các thư viện cần thiết và load dữ liệu vào pandas dataframe ##"
   ]
  },
  {
   "cell_type": "code",
   "execution_count": 1,
   "id": "c005ab1e-33c7-4872-b3b5-5cfc8a05b4ec",
   "metadata": {},
   "outputs": [],
   "source": [
    "import pandas as pd\n",
    "import numpy as np\n",
    "import matplotlib.pyplot as plt "
   ]
  },
  {
   "cell_type": "code",
   "execution_count": 2,
   "id": "31db09d3-ee64-4347-8260-344ec698c5eb",
   "metadata": {},
   "outputs": [],
   "source": [
    "# Load dữ liệu vào pandas dataframe\n",
    "data = pd.read_csv('Data/FPL_tweets.csv', delimiter=',')"
   ]
  },
  {
   "cell_type": "markdown",
   "id": "7b0ee0bc-3ab9-4dbf-954a-b69a30b40023",
   "metadata": {},
   "source": [
    "## II - Dữ liệu có bao nhiêu dòng và cột ##"
   ]
  },
  {
   "cell_type": "code",
   "execution_count": 3,
   "id": "59999037-a70f-4ab5-a695-8751e0e66b61",
   "metadata": {},
   "outputs": [
    {
     "name": "stdout",
     "output_type": "stream",
     "text": [
      "Dữ liệu có số dòng là: 114466\n",
      "Dữ liệu có số cột là: 13\n"
     ]
    }
   ],
   "source": [
    "number_rows, number_cols = data.shape\n",
    "\n",
    "print(f'Dữ liệu có số dòng là: {number_rows}')\n",
    "print(f'Dữ liệu có số cột là: {number_cols}')"
   ]
  },
  {
   "cell_type": "markdown",
   "id": "5f440c31-2802-4526-a984-7685db285974",
   "metadata": {},
   "source": [
    "## III - Khám phá dòng của dữ liệu ##"
   ]
  },
  {
   "cell_type": "markdown",
   "id": "9dd1ae54-56e1-4548-8474-9b2dc2a9ab06",
   "metadata": {},
   "source": [
    "### 1. Ý nghĩa của mỗi dòng ###"
   ]
  },
  {
   "cell_type": "code",
   "execution_count": 4,
   "id": "bf562469-a3fa-4889-b691-1dcbad8c5a08",
   "metadata": {
    "scrolled": true
   },
   "outputs": [
    {
     "data": {
      "text/html": [
       "<div>\n",
       "<style scoped>\n",
       "    .dataframe tbody tr th:only-of-type {\n",
       "        vertical-align: middle;\n",
       "    }\n",
       "\n",
       "    .dataframe tbody tr th {\n",
       "        vertical-align: top;\n",
       "    }\n",
       "\n",
       "    .dataframe thead th {\n",
       "        text-align: right;\n",
       "    }\n",
       "</style>\n",
       "<table border=\"1\" class=\"dataframe\">\n",
       "  <thead>\n",
       "    <tr style=\"text-align: right;\">\n",
       "      <th></th>\n",
       "      <th>ID</th>\n",
       "      <th>Timestamp</th>\n",
       "      <th>User</th>\n",
       "      <th>Text</th>\n",
       "      <th>Hashtag</th>\n",
       "      <th>Retweets</th>\n",
       "      <th>Likes</th>\n",
       "      <th>Replies</th>\n",
       "      <th>Source</th>\n",
       "      <th>Location</th>\n",
       "      <th>Verified_Account</th>\n",
       "      <th>Followers</th>\n",
       "      <th>Following</th>\n",
       "    </tr>\n",
       "  </thead>\n",
       "  <tbody>\n",
       "    <tr>\n",
       "      <th>89258</th>\n",
       "      <td>1.304890e+18</td>\n",
       "      <td>2020-09-12 21:10:33+00:00</td>\n",
       "      <td>leemupy</td>\n",
       "      <td>@GaryLineker @BBCSport @BBCMOTD Hello, For the...</td>\n",
       "      <td>NaN</td>\n",
       "      <td>0</td>\n",
       "      <td>0</td>\n",
       "      <td>0</td>\n",
       "      <td>&lt;a href=\"http://twitter.com/download/android\" ...</td>\n",
       "      <td>Mashonaland West, Zimbabwe</td>\n",
       "      <td>False</td>\n",
       "      <td>3583</td>\n",
       "      <td>3342</td>\n",
       "    </tr>\n",
       "    <tr>\n",
       "      <th>20460</th>\n",
       "      <td>5.477350e+17</td>\n",
       "      <td>2014-12-24 12:45:41+00:00</td>\n",
       "      <td>davidhosey</td>\n",
       "      <td>144,000 out of 3.3million! I scored 77 points ...</td>\n",
       "      <td>NaN</td>\n",
       "      <td>0</td>\n",
       "      <td>0</td>\n",
       "      <td>0</td>\n",
       "      <td>&lt;a href=\"https://dev.twitter.com/docs/tfw\" rel...</td>\n",
       "      <td>Toronto, ON &amp; Sarasota, FL</td>\n",
       "      <td>False</td>\n",
       "      <td>151</td>\n",
       "      <td>232</td>\n",
       "    </tr>\n",
       "    <tr>\n",
       "      <th>107618</th>\n",
       "      <td>1.556650e+18</td>\n",
       "      <td>2022-08-08 14:27:21+00:00</td>\n",
       "      <td>Melchis58253672</td>\n",
       "      <td>@ama_etwepa1 @abenakorkorr It's Fantasy Premie...</td>\n",
       "      <td>NaN</td>\n",
       "      <td>0</td>\n",
       "      <td>1</td>\n",
       "      <td>1</td>\n",
       "      <td>&lt;a href=\"http://twitter.com/download/android\" ...</td>\n",
       "      <td>Accra, Ghana</td>\n",
       "      <td>False</td>\n",
       "      <td>58</td>\n",
       "      <td>249</td>\n",
       "    </tr>\n",
       "  </tbody>\n",
       "</table>\n",
       "</div>"
      ],
      "text/plain": [
       "                  ID                  Timestamp             User  \\\n",
       "89258   1.304890e+18  2020-09-12 21:10:33+00:00          leemupy   \n",
       "20460   5.477350e+17  2014-12-24 12:45:41+00:00       davidhosey   \n",
       "107618  1.556650e+18  2022-08-08 14:27:21+00:00  Melchis58253672   \n",
       "\n",
       "                                                     Text Hashtag  Retweets  \\\n",
       "89258   @GaryLineker @BBCSport @BBCMOTD Hello, For the...     NaN         0   \n",
       "20460   144,000 out of 3.3million! I scored 77 points ...     NaN         0   \n",
       "107618  @ama_etwepa1 @abenakorkorr It's Fantasy Premie...     NaN         0   \n",
       "\n",
       "        Likes  Replies                                             Source  \\\n",
       "89258       0        0  <a href=\"http://twitter.com/download/android\" ...   \n",
       "20460       0        0  <a href=\"https://dev.twitter.com/docs/tfw\" rel...   \n",
       "107618      1        1  <a href=\"http://twitter.com/download/android\" ...   \n",
       "\n",
       "                          Location  Verified_Account  Followers  Following  \n",
       "89258   Mashonaland West, Zimbabwe             False       3583       3342  \n",
       "20460   Toronto, ON & Sarasota, FL             False        151        232  \n",
       "107618                Accra, Ghana             False         58        249  "
      ]
     },
     "execution_count": 4,
     "metadata": {},
     "output_type": "execute_result"
    }
   ],
   "source": [
    "# In ra 3 dòng bất kỳ trong tập dữ liệu\n",
    "data.sample(3)"
   ]
  },
  {
   "cell_type": "markdown",
   "id": "94e39804-5dd3-4ba4-be9f-90d4f0774d51",
   "metadata": {},
   "source": [
    "Mỗi dòng trong bảng mô tả một tweet riêng biệt, bao gồm thông tin về người đăng, nội dung tweet, tương tác và các chi tiết khác.\n",
    "\n"
   ]
  },
  {
   "cell_type": "markdown",
   "id": "4e65f9ea-58c8-477e-81b0-d42bbcaa7a9d",
   "metadata": {},
   "source": [
    "### 2. Có tồn tại các dòng trùng lắp không? ###"
   ]
  },
  {
   "cell_type": "code",
   "execution_count": 5,
   "id": "5954a6f9-5702-4f60-b665-9a32d494acb1",
   "metadata": {},
   "outputs": [
    {
     "data": {
      "text/html": [
       "<div>\n",
       "<style scoped>\n",
       "    .dataframe tbody tr th:only-of-type {\n",
       "        vertical-align: middle;\n",
       "    }\n",
       "\n",
       "    .dataframe tbody tr th {\n",
       "        vertical-align: top;\n",
       "    }\n",
       "\n",
       "    .dataframe thead th {\n",
       "        text-align: right;\n",
       "    }\n",
       "</style>\n",
       "<table border=\"1\" class=\"dataframe\">\n",
       "  <thead>\n",
       "    <tr style=\"text-align: right;\">\n",
       "      <th></th>\n",
       "      <th>ID</th>\n",
       "      <th>Timestamp</th>\n",
       "      <th>User</th>\n",
       "      <th>Text</th>\n",
       "      <th>Hashtag</th>\n",
       "      <th>Retweets</th>\n",
       "      <th>Likes</th>\n",
       "      <th>Replies</th>\n",
       "      <th>Source</th>\n",
       "      <th>Location</th>\n",
       "      <th>Verified_Account</th>\n",
       "      <th>Followers</th>\n",
       "      <th>Following</th>\n",
       "    </tr>\n",
       "  </thead>\n",
       "  <tbody>\n",
       "  </tbody>\n",
       "</table>\n",
       "</div>"
      ],
      "text/plain": [
       "Empty DataFrame\n",
       "Columns: [ID, Timestamp, User, Text, Hashtag, Retweets, Likes, Replies, Source, Location, Verified_Account, Followers, Following]\n",
       "Index: []"
      ]
     },
     "execution_count": 5,
     "metadata": {},
     "output_type": "execute_result"
    }
   ],
   "source": [
    "data[data.duplicated()]"
   ]
  },
  {
   "cell_type": "markdown",
   "id": "f4a332f7-34b2-4e9f-b9ae-f77d547bbb0f",
   "metadata": {},
   "source": [
    "Dữ liệu trên không có dòng nào là trùng nhau."
   ]
  },
  {
   "cell_type": "markdown",
   "id": "04772520-4b76-44f0-98b9-5b9af53c0672",
   "metadata": {},
   "source": [
    "## IV - Khám phá cột của dữ liệu ##"
   ]
  },
  {
   "cell_type": "markdown",
   "id": "ec1dacd8-6557-4e3c-8fd3-f485a8fe4de4",
   "metadata": {},
   "source": [
    "### 1. Ý nghĩa của mỗi cột ###"
   ]
  },
  {
   "cell_type": "markdown",
   "id": "ad9a6e3a-1db5-4bac-a728-1a0454dc779e",
   "metadata": {},
   "source": [
    "| Tên cột  | Ý nghĩa  |\n",
    "|---|---|\n",
    "| ID  | Mã định danh độc nhất cho mỗi tweet  |\n",
    "| Timestamp  | Ngày giờ tweet được đăng tải  |\n",
    "| User  | Tên tài khoản đăng tải tweet  |\n",
    "| Text  | Nội dung của tweet  |\n",
    "| Hashtag  | Hashtag của tweet (nếu có)  |\n",
    "| Retweets  | Số lần tweet được retweet  |\n",
    "| Likes  | Lượt like của tweet |\n",
    "| Replies  | Lượt phản hồi của tweet  |\n",
    "| Source  | Nguồn hoặc thiết bị đăng tải tweet  |\n",
    "| Location  | Địa điểm được đề cập ở hồ sơ của tài khoản đăng tải tweet (nếu có)  |\n",
    "| Verified_Account  | Trạng thái xác minh của tài khoản (TRUE hoặc FALSE)   |\n",
    "| Followers  | Số lượng tài khoản theo dõi của tài khoản đăng tải tweet  |\n",
    "| Following  | Số lượng tài khoản mà tài khoản đăng tải tweet theo dõi |\n",
    "\n",
    "*Thông tin của dữ liệu (likes, replies....) được ghi nhận tại thời điểm thu thập dữ liệu và có thể thay đổi ở thời điểm hiện tại.*"
   ]
  },
  {
   "cell_type": "markdown",
   "id": "52b0a894-fd6c-430e-b02a-e1ab21be189c",
   "metadata": {},
   "source": [
    "### 2. Kiểu dữ liệu của mỗi cột ###"
   ]
  },
  {
   "cell_type": "code",
   "execution_count": 6,
   "id": "856575ef-eee5-4d25-b277-87cde03639dd",
   "metadata": {},
   "outputs": [
    {
     "data": {
      "text/plain": [
       "ID                  float64\n",
       "Timestamp            object\n",
       "User                 object\n",
       "Text                 object\n",
       "Hashtag              object\n",
       "Retweets              int64\n",
       "Likes                 int64\n",
       "Replies               int64\n",
       "Source               object\n",
       "Location             object\n",
       "Verified_Account       bool\n",
       "Followers             int64\n",
       "Following             int64\n",
       "dtype: object"
      ]
     },
     "execution_count": 6,
     "metadata": {},
     "output_type": "execute_result"
    }
   ],
   "source": [
    "data.dtypes"
   ]
  },
  {
   "cell_type": "markdown",
   "id": "e75e3f74-41ed-4bc7-a9ab-6b8e92adccb1",
   "metadata": {},
   "source": [
    "Để có thể hiểu được rõ hơn về các cột có kiểu dữ liệu object, quá trình phân tách kiểu dữ liệu object sẽ được áp dụng."
   ]
  },
  {
   "cell_type": "code",
   "execution_count": 7,
   "id": "b439f583-1a8d-4fd6-80e1-e4af3796a2b6",
   "metadata": {},
   "outputs": [
    {
     "data": {
      "text/plain": [
       "Timestamp                     {<class 'str'>}\n",
       "User                          {<class 'str'>}\n",
       "Text                          {<class 'str'>}\n",
       "Hashtag      {<class 'float'>, <class 'str'>}\n",
       "Source                        {<class 'str'>}\n",
       "Location     {<class 'float'>, <class 'str'>}\n",
       "dtype: object"
      ]
     },
     "execution_count": 7,
     "metadata": {},
     "output_type": "execute_result"
    }
   ],
   "source": [
    "def open_object_dtype(s):\n",
    "    dtypes = set()\n",
    "    dtypes.update(s.apply(type))\n",
    "    return dtypes\n",
    "\n",
    "data[data.dtypes.index[data.dtypes == object]].apply(open_object_dtype)"
   ]
  },
  {
   "cell_type": "markdown",
   "id": "ee713fd3-9e61-41b5-a8df-0d7dfadb55e9",
   "metadata": {},
   "source": [
    "Để tập dữ liệu được phù hợp, những cột dữ liệu sau cần chuyển kiểu dữ liệu:\n",
    "* ID: kiểu string\n",
    "* Timestamp: kiểu datetime\n",
    "* Hashtag: kiểu python list (nếu có hashtag)\n",
    "* Location: dữ liệu ở cột location không được chuẩn hóa (người dùng có thể điền bất kỳ thông tin gì ở cột này) và không thực sự hữu ích nên dữ liệu ở cột này sẽ được giữ nguyên. Có thể in ra mười dòng ngẫu nhiên để thấy rõ hơn điều này."
   ]
  },
  {
   "cell_type": "markdown",
   "id": "656c06a7-4b92-4c3c-80a0-f23c60a483eb",
   "metadata": {},
   "source": [
    "### 3. Tiền xử lý - chuyển kiểu dữ liệu ###"
   ]
  },
  {
   "cell_type": "code",
   "execution_count": 8,
   "id": "3f9a751c-038b-4fd0-9015-9b05be90304e",
   "metadata": {},
   "outputs": [],
   "source": [
    "# Cột ID\n",
    "data['ID'] = data['ID'].astype(str)\n",
    "\n",
    "# Cột timestamp\n",
    "data['Timestamp'] = pd.to_datetime(data['Timestamp'], utc=True)\n",
    "\n",
    "# Cột hashtag\n",
    "def hashtag_pre(s):\n",
    "    '''\n",
    "    Tiền xử lý dữ liệu ở cột Hashtag (dữ liệu ở biến s):\n",
    "    1. Loại bỏ các ký tự []''\n",
    "    2. Chuyển các phần tử được phân cách bởi dấu phẩy vào list.\n",
    "\n",
    "    Ví dụ thực thi:\n",
    "    >>> test = hashtag_pre(\"['FPL', 'FPLCommunity']\")\n",
    "    >>> test, type(test), len(test)\n",
    "    (['FPL', ' FPLCommunity'], list, 2)\n",
    "    \n",
    "    '''\n",
    "    if type(s) != float:\n",
    "        # Chuyển kiểu dữ liệu sang string\n",
    "        result = str(s)\n",
    "        \n",
    "        # Loại bỏ ký tự\n",
    "        chars = \"[]'' \"\n",
    "        for char in chars:\n",
    "            result = result.replace(char, '')\n",
    "\n",
    "        # Chuyển các ký tự thành chữ thường\n",
    "        result = result.lower()\n",
    "        \n",
    "        # Lưu trữ kết quả vào list\n",
    "        result = list(result.split(','))\n",
    "        \n",
    "        return result\n",
    "    else:\n",
    "        return s\n",
    "\n",
    "data['Hashtag'] = data['Hashtag'].apply(hashtag_pre)"
   ]
  },
  {
   "cell_type": "markdown",
   "id": "976f764e-ccfd-4f85-989d-9f6103b5aee0",
   "metadata": {},
   "source": [
    "Sau khi thực thi, kiểu dữ liệu của mỗi cột được in ra như sau:"
   ]
  },
  {
   "cell_type": "code",
   "execution_count": 9,
   "id": "29daa89b-3fd5-497e-9662-5a7335f36f19",
   "metadata": {},
   "outputs": [
    {
     "data": {
      "text/plain": [
       "ID                                                    {<class 'str'>}\n",
       "Timestamp           {<class 'pandas._libs.tslibs.timestamps.Timest...\n",
       "User                                                  {<class 'str'>}\n",
       "Text                                                  {<class 'str'>}\n",
       "Hashtag                             {<class 'float'>, <class 'list'>}\n",
       "Retweets                                              {<class 'int'>}\n",
       "Likes                                                 {<class 'int'>}\n",
       "Replies                                               {<class 'int'>}\n",
       "Source                                                {<class 'str'>}\n",
       "Location                             {<class 'float'>, <class 'str'>}\n",
       "Verified_Account                                     {<class 'bool'>}\n",
       "Followers                                             {<class 'int'>}\n",
       "Following                                             {<class 'int'>}\n",
       "dtype: object"
      ]
     },
     "execution_count": 9,
     "metadata": {},
     "output_type": "execute_result"
    }
   ],
   "source": [
    "data.apply(open_object_dtype)"
   ]
  },
  {
   "cell_type": "markdown",
   "id": "324a5bc0-3c29-42fc-8a87-d574fc58c708",
   "metadata": {},
   "source": [
    "### 4. Sự phân bố của các cột có kiểu dữ liệu số (numerical) ###"
   ]
  },
  {
   "cell_type": "markdown",
   "id": "6446b711-d7fb-44ac-9949-663e33564e33",
   "metadata": {},
   "source": [
    "Sử dụng một dataframe để tổng hợp các giá trị bao gồm tỉ lệ missing value, min, Q1(25%), median, Q3(75%) và max của các cột dữ liệu:\n",
    "* Timestamp (mặc dù kiểu dữ liệu là datetime nhưng có thể xem là numerical vì có thể tính min, Q1(25%), median, Q3(75%) và max được)\n",
    "* Retweets\n",
    "* Likes\n",
    "* Replies\n",
    "* Followers\n",
    "* Following"
   ]
  },
  {
   "cell_type": "code",
   "execution_count": 10,
   "id": "e9682fcb-5294-49d6-a21a-5613833a688c",
   "metadata": {},
   "outputs": [
    {
     "data": {
      "text/html": [
       "<div>\n",
       "<style scoped>\n",
       "    .dataframe tbody tr th:only-of-type {\n",
       "        vertical-align: middle;\n",
       "    }\n",
       "\n",
       "    .dataframe tbody tr th {\n",
       "        vertical-align: top;\n",
       "    }\n",
       "\n",
       "    .dataframe thead th {\n",
       "        text-align: right;\n",
       "    }\n",
       "</style>\n",
       "<table border=\"1\" class=\"dataframe\">\n",
       "  <thead>\n",
       "    <tr style=\"text-align: right;\">\n",
       "      <th></th>\n",
       "      <th>Timestamp</th>\n",
       "      <th>Retweets</th>\n",
       "      <th>Likes</th>\n",
       "      <th>Replies</th>\n",
       "      <th>Followers</th>\n",
       "      <th>Following</th>\n",
       "    </tr>\n",
       "  </thead>\n",
       "  <tbody>\n",
       "    <tr>\n",
       "      <th>Missing percentage</th>\n",
       "      <td>0.0</td>\n",
       "      <td>0.0</td>\n",
       "      <td>0.0</td>\n",
       "      <td>0.0</td>\n",
       "      <td>0.0</td>\n",
       "      <td>0.0</td>\n",
       "    </tr>\n",
       "    <tr>\n",
       "      <th>Min</th>\n",
       "      <td>2012-10-29 00:03:32+00:00</td>\n",
       "      <td>0.0</td>\n",
       "      <td>0.0</td>\n",
       "      <td>0.0</td>\n",
       "      <td>0.0</td>\n",
       "      <td>0.0</td>\n",
       "    </tr>\n",
       "    <tr>\n",
       "      <th>Q1(25%)</th>\n",
       "      <td>2014-12-06 15:19:16.750000+00:00</td>\n",
       "      <td>0.0</td>\n",
       "      <td>0.0</td>\n",
       "      <td>0.0</td>\n",
       "      <td>207.0</td>\n",
       "      <td>174.0</td>\n",
       "    </tr>\n",
       "    <tr>\n",
       "      <th>Median</th>\n",
       "      <td>2017-11-28 18:41:33.500000+00:00</td>\n",
       "      <td>0.0</td>\n",
       "      <td>0.0</td>\n",
       "      <td>0.0</td>\n",
       "      <td>667.0</td>\n",
       "      <td>499.0</td>\n",
       "    </tr>\n",
       "    <tr>\n",
       "      <th>Q3(75%)</th>\n",
       "      <td>2020-10-27 14:26:44+00:00</td>\n",
       "      <td>0.0</td>\n",
       "      <td>1.0</td>\n",
       "      <td>0.0</td>\n",
       "      <td>2741.0</td>\n",
       "      <td>1261.0</td>\n",
       "    </tr>\n",
       "    <tr>\n",
       "      <th>Max</th>\n",
       "      <td>2023-04-08 23:10:30+00:00</td>\n",
       "      <td>7805.0</td>\n",
       "      <td>85997.0</td>\n",
       "      <td>1317.0</td>\n",
       "      <td>40007982.0</td>\n",
       "      <td>235775.0</td>\n",
       "    </tr>\n",
       "  </tbody>\n",
       "</table>\n",
       "</div>"
      ],
      "text/plain": [
       "                                           Timestamp  Retweets    Likes  \\\n",
       "Missing percentage                               0.0       0.0      0.0   \n",
       "Min                        2012-10-29 00:03:32+00:00       0.0      0.0   \n",
       "Q1(25%)             2014-12-06 15:19:16.750000+00:00       0.0      0.0   \n",
       "Median              2017-11-28 18:41:33.500000+00:00       0.0      0.0   \n",
       "Q3(75%)                    2020-10-27 14:26:44+00:00       0.0      1.0   \n",
       "Max                        2023-04-08 23:10:30+00:00    7805.0  85997.0   \n",
       "\n",
       "                    Replies   Followers  Following  \n",
       "Missing percentage      0.0         0.0        0.0  \n",
       "Min                     0.0         0.0        0.0  \n",
       "Q1(25%)                 0.0       207.0      174.0  \n",
       "Median                  0.0       667.0      499.0  \n",
       "Q3(75%)                 0.0      2741.0     1261.0  \n",
       "Max                  1317.0  40007982.0   235775.0  "
      ]
     },
     "execution_count": 10,
     "metadata": {},
     "output_type": "execute_result"
    }
   ],
   "source": [
    "numerical_cols = ['Timestamp', 'Retweets', 'Likes', 'Replies', 'Followers', 'Following']\n",
    "\n",
    "# Tỉ lệ missing value (%)\n",
    "missing_value = np.sum(np.isnan(data[numerical_cols]), axis=0) / data.shape[0] * 100\n",
    "\n",
    "# min, Q1(25%), median, Q3(75%) và max\n",
    "percentile = np.array(np.percentile(data[numerical_cols], [0, 25, 50, 75, 100], axis=0))\n",
    "\n",
    "# dataframe phân bố\n",
    "numerical_cols_dist_df = pd.DataFrame( data=[list(missing_value), percentile[0], percentile[1], percentile[2], percentile[3], percentile[4]],\n",
    "                                       index=['Missing percentage', 'Min', 'Q1(25%)', 'Median', 'Q3(75%)', 'Max'],\n",
    "                                       columns=numerical_cols)\n",
    "numerical_cols_dist_df"
   ]
  },
  {
   "cell_type": "markdown",
   "id": "a307eb40-b316-4095-9e86-9521fbf4ff78",
   "metadata": {},
   "source": [
    "#### Nhận xét về sự phân bố dữ liệu\n",
    "\n",
    "* Giá trị missing value ở các cột dữ liệu đều bằng 0 vì các cột này thể hiện các giá trị đếm (lượt tweet, lượt like...) và có giá trị thấp nhất là 0. Missing value chỉ xảy ra với trường hợp dữ liệu là NaN.\n",
    "* Ba cột dữ liệu ``Retweets``, ``Likes`` và ``Replies`` thể hiện sự tương tác đối với các tweet. Các cột có giá trị min và Q3 gần như là bằng nhau và bằng 0 ở mỗi cột. Để hiểu rõ hơn về sự phân bố dữ liệu ở ba cột này, chúng ta sẽ sắp xếp dữ liệu tăng dần và trực quan với biểu đồ đường."
   ]
  },
  {
   "cell_type": "code",
   "execution_count": 11,
   "id": "451aef10-3a13-435c-bd30-870576be9960",
   "metadata": {},
   "outputs": [
    {
     "data": {
      "text/plain": [
       "<matplotlib.legend.Legend at 0x7fc1ac734250>"
      ]
     },
     "execution_count": 11,
     "metadata": {},
     "output_type": "execute_result"
    },
    {
     "data": {
      "image/png": "[encoded data removed]",
      "text/plain": [
       "<Figure size 640x480 with 1 Axes>"
      ]
     },
     "metadata": {},
     "output_type": "display_data"
    }
   ],
   "source": [
    "x = np.arange(0, data.shape[0])\n",
    "plt.plot(x, data['Likes'].sort_values(ascending=True), label = \"Like\") \n",
    "plt.plot(x, data['Retweets'].sort_values(ascending=True), label = 'Retweet')\n",
    "plt.plot(x, data['Replies'].sort_values(ascending=True), label = 'Replie')\n",
    "plt.xlabel(\"Tweet count\")\n",
    "plt.ylabel(\"Interaction count\")\n",
    "\n",
    "plt.grid()\n",
    "plt.legend()"
   ]
  },
  {
   "cell_type": "markdown",
   "id": "5a8987d1-5d8a-4f98-bcb0-ecfa076a9948",
   "metadata": {},
   "source": [
    "* Dựa vào biểu đồ ở trên, chúng ta có thể thấy rằng người dùng có xu hướng sử dụng tương tác like (có thể vì đây là phương thức tương tác dễ thực hiện nhất) và có xu hướng hạn chế bình luận.\n",
    "* Đa số các tweet được tạo ra nhưng không có sự tương tác và số lần tương tác tập trung ở một vài tweet nhất định. Một giả thiết cho hiện tượng này là các sự kiện mà nhà phát hành tổ chức cho trò chơi Fantasy Premier League. Các sự kiện yêu cầu sự tương tác của người chơi (like, chia sẻ sự kiện thông qua tweet, bình luận, sử dụng hashtag) để có thể nhận được vật phẩm từ sự kiện.\n",
    "* Những tương tác tập trung chủ yếu ở các tweet của nhà phát hành (các trang chính thức). Những tweet chia sẻ sự kiện là những tweet không có tính mới mẻ và lặp đi lặp lại nên khó có thể thu hút các người dùng khác."
   ]
  },
  {
   "cell_type": "markdown",
   "id": "591cd49f-a31e-4b7e-bba2-fee586348f86",
   "metadata": {},
   "source": [
    "### 5. Sự phân bố của các cột có kiểu dữ liệu phân loại (categorical) ###"
   ]
  },
  {
   "cell_type": "markdown",
   "id": "272e07d1-b074-4c27-9d04-a0d0bc23b875",
   "metadata": {},
   "source": [
    "Trước hết, chúng em sẽ kiểm tra xem mỗi cột dữ liệu có kiểu phân loại (categorical) có bị thiếu dữ liệu hay không. Các cột dữ liệu có kiểu phân loại (categorical) bao gồm: \n",
    "- ``ID``\n",
    "- ``User``\n",
    "- ``Text``\n",
    "- ``Hashtag``\n",
    "- ``Source``\n",
    "- ``Location``\n",
    "- ``Verified_Account``"
   ]
  },
  {
   "cell_type": "code",
   "execution_count": 12,
   "id": "ca05acd3-e1b8-455a-8ab7-b1eabf0558a3",
   "metadata": {},
   "outputs": [
    {
     "data": {
      "text/html": [
       "<div>\n",
       "<style scoped>\n",
       "    .dataframe tbody tr th:only-of-type {\n",
       "        vertical-align: middle;\n",
       "    }\n",
       "\n",
       "    .dataframe tbody tr th {\n",
       "        vertical-align: top;\n",
       "    }\n",
       "\n",
       "    .dataframe thead th {\n",
       "        text-align: right;\n",
       "    }\n",
       "</style>\n",
       "<table border=\"1\" class=\"dataframe\">\n",
       "  <thead>\n",
       "    <tr style=\"text-align: right;\">\n",
       "      <th></th>\n",
       "      <th>Missing value</th>\n",
       "    </tr>\n",
       "  </thead>\n",
       "  <tbody>\n",
       "    <tr>\n",
       "      <th>ID</th>\n",
       "      <td>0.000000</td>\n",
       "    </tr>\n",
       "    <tr>\n",
       "      <th>User</th>\n",
       "      <td>0.000000</td>\n",
       "    </tr>\n",
       "    <tr>\n",
       "      <th>Text</th>\n",
       "      <td>0.000000</td>\n",
       "    </tr>\n",
       "    <tr>\n",
       "      <th>Hashtag</th>\n",
       "      <td>74.861531</td>\n",
       "    </tr>\n",
       "    <tr>\n",
       "      <th>Source</th>\n",
       "      <td>0.000000</td>\n",
       "    </tr>\n",
       "    <tr>\n",
       "      <th>Location</th>\n",
       "      <td>29.488232</td>\n",
       "    </tr>\n",
       "    <tr>\n",
       "      <th>Verified_Account</th>\n",
       "      <td>0.000000</td>\n",
       "    </tr>\n",
       "  </tbody>\n",
       "</table>\n",
       "</div>"
      ],
      "text/plain": [
       "                  Missing value\n",
       "ID                     0.000000\n",
       "User                   0.000000\n",
       "Text                   0.000000\n",
       "Hashtag               74.861531\n",
       "Source                 0.000000\n",
       "Location              29.488232\n",
       "Verified_Account       0.000000"
      ]
     },
     "execution_count": 12,
     "metadata": {},
     "output_type": "execute_result"
    }
   ],
   "source": [
    "# Kiểm tra xem  mỗi cột dữ liệu có kiểu phân loại (categorical) có bị thiếu dữ liệu hay không\n",
    "categorical_cols_lst = ['ID', 'User', 'Text', 'Hashtag', 'Source', 'Location', 'Verified_Account']\n",
    "percentage_missing_values = np.sum(data[categorical_cols_lst].isna(), axis=0) * 100 / data.shape[0]\n",
    "pd.DataFrame({\"Missing value\": percentage_missing_values})"
   ]
  },
  {
   "cell_type": "markdown",
   "id": "61c1fee8-b4c8-4a2c-ab81-01f8777a3ead",
   "metadata": {},
   "source": [
    "Như vậy, chỉ có cột ``Location`` bị thiếu dữ liệu, còn lại thì không."
   ]
  },
  {
   "cell_type": "markdown",
   "id": "13399d48-102b-43bd-b870-2ba80e158c3b",
   "metadata": {},
   "source": [
    "**Tiền xử lý - với cột ``Source``** \\\n",
    "Chúng em sẽ loại bỏ tag a trong HTML và chỉ lấy tiêu đề."
   ]
  },
  {
   "cell_type": "code",
   "execution_count": 13,
   "id": "d878349c-8cc4-4bfa-b706-51c4e3f22056",
   "metadata": {},
   "outputs": [
    {
     "data": {
      "text/plain": [
       "47270                     dlvr.it\n",
       "40378                     dlvr.it\n",
       "112170                  TweetDeck\n",
       "9423      Twitter for BlackBerry®\n",
       "83450                     dlvr.it\n",
       "Name: Source, dtype: object"
      ]
     },
     "execution_count": 13,
     "metadata": {},
     "output_type": "execute_result"
    }
   ],
   "source": [
    "data['Source'] = data['Source'].str.replace('<.*?>', '', regex=True)\n",
    "data['Source'].sample(5)"
   ]
  },
  {
   "cell_type": "markdown",
   "id": "fef09c12-dfca-452f-81fe-541231007c8e",
   "metadata": {},
   "source": [
    "Với mỗi cột dữ liệu có kiểu ``categorical``, chúng em sẽ tính toán các giá trị sau và lưu kết quả vào 1 DataFrame (tất cả các giá trị đều không tính nan):\n",
    "* Số lượng các giá trị riêng biệt.\n",
    "* Liệt kê những giá trị riêng biệt.\n",
    "* Số lượng của từng giá trị riêng biệt và giá trị có số lượng lớn nhất."
   ]
  },
  {
   "cell_type": "code",
   "execution_count": 14,
   "id": "133b0e52-298b-4cb5-bd61-b148ac55ecf6",
   "metadata": {},
   "outputs": [
    {
     "data": {
      "text/html": [
       "<div>\n",
       "<style scoped>\n",
       "    .dataframe tbody tr th:only-of-type {\n",
       "        vertical-align: middle;\n",
       "    }\n",
       "\n",
       "    .dataframe tbody tr th {\n",
       "        vertical-align: top;\n",
       "    }\n",
       "\n",
       "    .dataframe thead th {\n",
       "        text-align: right;\n",
       "    }\n",
       "</style>\n",
       "<table border=\"1\" class=\"dataframe\">\n",
       "  <thead>\n",
       "    <tr style=\"text-align: right;\">\n",
       "      <th></th>\n",
       "      <th>ID</th>\n",
       "      <th>User</th>\n",
       "      <th>Text</th>\n",
       "      <th>Hashtag</th>\n",
       "      <th>Source</th>\n",
       "      <th>Location</th>\n",
       "      <th>Verified_Account</th>\n",
       "    </tr>\n",
       "  </thead>\n",
       "  <tbody>\n",
       "    <tr>\n",
       "      <th>num_diff_vals</th>\n",
       "      <td>58623</td>\n",
       "      <td>54030</td>\n",
       "      <td>112217</td>\n",
       "      <td>8599</td>\n",
       "      <td>1158</td>\n",
       "      <td>17685</td>\n",
       "      <td>2</td>\n",
       "    </tr>\n",
       "    <tr>\n",
       "      <th>diff_vals_info</th>\n",
       "      <td>[2.85535e+17, 2.85529e+17, 2.85527e+17, 2.8552...</td>\n",
       "      <td>[AmythLFC, BenBoutwood, ddreid88, ahmedkungora...</td>\n",
       "      <td>[I scored 75 points in Gameweek 20 on Fantasy ...</td>\n",
       "      <td>[nan, fpl, aiminghigh, winnar, suarez, lambert...</td>\n",
       "      <td>[Twitter for Websites, Twitter Web Client, Twi...</td>\n",
       "      <td>[Essex, Glasgow, Scotland, killamarsh,Sheffiel...</td>\n",
       "      <td>[False, True]</td>\n",
       "    </tr>\n",
       "    <tr>\n",
       "      <th>distribution</th>\n",
       "      <td>{'1.30472e+18': 134, '1.56356e+18': 113, '1.42...</td>\n",
       "      <td>{'90min_plus3': 938, 'fplcloud': 630, 'Footbal...</td>\n",
       "      <td>{'Join our Fantasy Premier League - The 606v2 ...</td>\n",
       "      <td>{'fpl': 11951, 'fantasypremierleague': 2656, '...</td>\n",
       "      <td>{'Twitter for Android': 21296, 'Twitter for iP...</td>\n",
       "      <td>{'London, England': 2113, 'United Kingdom': 18...</td>\n",
       "      <td>{False: 109919, True: 4547}</td>\n",
       "    </tr>\n",
       "    <tr>\n",
       "      <th>max_occurences</th>\n",
       "      <td>[1.30472e+18]</td>\n",
       "      <td>[90min_plus3]</td>\n",
       "      <td>[Join our Fantasy Premier League - The 606v2 F...</td>\n",
       "      <td>[fpl]</td>\n",
       "      <td>[Twitter for Android]</td>\n",
       "      <td>[London, England]</td>\n",
       "      <td>[False]</td>\n",
       "    </tr>\n",
       "  </tbody>\n",
       "</table>\n",
       "</div>"
      ],
      "text/plain": [
       "                                                               ID  \\\n",
       "num_diff_vals                                               58623   \n",
       "diff_vals_info  [2.85535e+17, 2.85529e+17, 2.85527e+17, 2.8552...   \n",
       "distribution    {'1.30472e+18': 134, '1.56356e+18': 113, '1.42...   \n",
       "max_occurences                                      [1.30472e+18]   \n",
       "\n",
       "                                                             User  \\\n",
       "num_diff_vals                                               54030   \n",
       "diff_vals_info  [AmythLFC, BenBoutwood, ddreid88, ahmedkungora...   \n",
       "distribution    {'90min_plus3': 938, 'fplcloud': 630, 'Footbal...   \n",
       "max_occurences                                      [90min_plus3]   \n",
       "\n",
       "                                                             Text  \\\n",
       "num_diff_vals                                              112217   \n",
       "diff_vals_info  [I scored 75 points in Gameweek 20 on Fantasy ...   \n",
       "distribution    {'Join our Fantasy Premier League - The 606v2 ...   \n",
       "max_occurences  [Join our Fantasy Premier League - The 606v2 F...   \n",
       "\n",
       "                                                          Hashtag  \\\n",
       "num_diff_vals                                                8599   \n",
       "diff_vals_info  [nan, fpl, aiminghigh, winnar, suarez, lambert...   \n",
       "distribution    {'fpl': 11951, 'fantasypremierleague': 2656, '...   \n",
       "max_occurences                                              [fpl]   \n",
       "\n",
       "                                                           Source  \\\n",
       "num_diff_vals                                                1158   \n",
       "diff_vals_info  [Twitter for Websites, Twitter Web Client, Twi...   \n",
       "distribution    {'Twitter for Android': 21296, 'Twitter for iP...   \n",
       "max_occurences                              [Twitter for Android]   \n",
       "\n",
       "                                                         Location  \\\n",
       "num_diff_vals                                               17685   \n",
       "diff_vals_info  [Essex, Glasgow, Scotland, killamarsh,Sheffiel...   \n",
       "distribution    {'London, England': 2113, 'United Kingdom': 18...   \n",
       "max_occurences                                  [London, England]   \n",
       "\n",
       "                           Verified_Account  \n",
       "num_diff_vals                             2  \n",
       "diff_vals_info                [False, True]  \n",
       "distribution    {False: 109919, True: 4547}  \n",
       "max_occurences                      [False]  "
      ]
     },
     "execution_count": 14,
     "metadata": {},
     "output_type": "execute_result"
    }
   ],
   "source": [
    "categorical_df = data[categorical_cols_lst]\n",
    "categorical_val_df = pd.DataFrame(index=['num_diff_vals', 'diff_vals_info', 'distribution'], columns=categorical_cols_lst)\n",
    "categorical_val_df.loc['num_diff_vals'] = [categorical_df[categorical_cols_lst[0]].nunique(), \n",
    "                                           categorical_df[categorical_cols_lst[1]].nunique(),\n",
    "                                           categorical_df[categorical_cols_lst[2]].nunique(),\n",
    "                                           categorical_df[categorical_cols_lst[3]].explode().nunique(), \n",
    "                                           categorical_df[categorical_cols_lst[4]].nunique(),\n",
    "                                           categorical_df[categorical_cols_lst[5]].dropna().nunique(), # Do cột Location bị thiếu data\n",
    "                                           categorical_df[categorical_cols_lst[6]].nunique()\n",
    "                                          ]\n",
    "categorical_val_df.loc['diff_vals_info'] = [categorical_df[categorical_cols_lst[0]].unique(), \n",
    "                                            categorical_df[categorical_cols_lst[1]].unique(),\n",
    "                                            categorical_df[categorical_cols_lst[2]].unique(),\n",
    "                                            categorical_df[categorical_cols_lst[3]].explode().unique(), \n",
    "                                            categorical_df[categorical_cols_lst[4]].unique(),\n",
    "                                            categorical_df[categorical_cols_lst[5]].dropna().unique(), # Do cột Location bị thiếu data\n",
    "                                            categorical_df[categorical_cols_lst[6]].unique()\n",
    "                                          ]\n",
    "\n",
    "categorical_val_df.loc['distribution'] = [categorical_df[categorical_cols_lst[0]].value_counts().to_dict(), \n",
    "                                           categorical_df[categorical_cols_lst[1]].value_counts().to_dict(),\n",
    "                                           categorical_df[categorical_cols_lst[2]].value_counts().to_dict(),\n",
    "                                           categorical_df[categorical_cols_lst[3]].explode().value_counts().to_dict(), \n",
    "                                           categorical_df[categorical_cols_lst[4]].value_counts().to_dict(),\n",
    "                                           categorical_df[categorical_cols_lst[5]].dropna().value_counts().to_dict(), # Do cột Location bị thiếu data\n",
    "                                           categorical_df[categorical_cols_lst[6]].value_counts().to_dict()\n",
    "                                          ]\n",
    "\n",
    "categorical_val_df.loc['max_occurences'] = [data[categorical_cols_lst[0]].mode().values, \n",
    "                                           data[categorical_cols_lst[1]].mode().values,\n",
    "                                           data[categorical_cols_lst[2]].mode().values,\n",
    "                                           data[categorical_cols_lst[3]].explode().mode().values, \n",
    "                                           data[categorical_cols_lst[4]].mode().values,\n",
    "                                           data[categorical_cols_lst[5]].mode().values, # Do cột Location bị thiếu data\n",
    "                                           data[categorical_cols_lst[6]].mode().values\n",
    "                                          ]\n",
    "\n",
    "categorical_val_df"
   ]
  },
  {
   "cell_type": "markdown",
   "id": "67a40586-8872-4fd8-ae2b-eeacbfa7b559",
   "metadata": {},
   "source": [
    "Từ đây, chúng em thấy rằng:\n",
    "- Mỗi cột có kiểu dữ liệu categorical đều có dữ liệu trùng lắp.\n",
    "- Với cột ``Source``, đa số các tweets được đăng từ thiết bị của hệ điều hành Android (Twitter for Android).\n",
    "- Với hai cột ``Text`` và ``Location`` là có một vài dòng chứa biểu tượng emoji. Riêng cột ``Location`` có một vài dòng không phải là một địa điểm cụ thể.\n",
    "- Đối với cột ``Verified_Account``, đa số các tweets đều được đăng bởi các tài khoản không được xác minh."
   ]
  },
  {
   "cell_type": "markdown",
   "id": "1540d693-4386-43dd-907f-53a699512a15",
   "metadata": {},
   "source": [
    "Trực quan hóa dữ liệu đối với cột ``Source`` và ``Verified_Account``"
   ]
  },
  {
   "cell_type": "code",
   "execution_count": 15,
   "id": "20c195fa-21c0-42fd-8a09-0b06d91a9c8b",
   "metadata": {},
   "outputs": [
    {
     "data": {
      "text/plain": [
       "Text(0.5, 1.0, 'Source')"
      ]
     },
     "execution_count": 15,
     "metadata": {},
     "output_type": "execute_result"
    },
    {
     "data": {
      "image/png": "[encoded data removed]",
      "text/plain": [
       "<Figure size 800x500 with 1 Axes>"
      ]
     },
     "metadata": {},
     "output_type": "display_data"
    }
   ],
   "source": [
    "# Trực quan hóa đối với cột Source\n",
    "num_source_else_vals = np.sum(list(categorical_val_df.loc['distribution']['Source'].values())) - \\\n",
    "np.sum(list(categorical_val_df.loc['distribution']['Source'].values())[0:14])\n",
    "top_14_max_source_vals = list(categorical_val_df.loc['distribution']['Source'].values())[0:14]\n",
    "top_14_max_source_vals.append(num_source_else_vals)\n",
    "\n",
    "top_14_max_source_keys = list(categorical_val_df.loc['distribution']['Source'].keys())[0:14]\n",
    "top_14_max_source_keys.append('Other')\n",
    "\n",
    "fig, ax = plt.subplots(figsize=(8,5))\n",
    "clr_lst = ['red', 'blue', 'yellow', 'green', 'violet', 'pink', 'cyan', 'olive',\n",
    "          'lime', 'silver', 'orange', 'chocolate', 'purple', 'gold', 'aquamarine']\n",
    "ax.pie(top_14_max_source_vals, autopct='%.1f%%', startangle=90, colors = clr_lst)\n",
    "ax.legend(loc='upper right', labels=top_14_max_source_keys, fontsize=\"8\", bbox_to_anchor=(1.0, 0.62, 0.5, 0.3))\n",
    "ax.set_title('Source')"
   ]
  },
  {
   "cell_type": "code",
   "execution_count": 16,
   "id": "3eff646e-81c9-4242-81a5-fdd88232e037",
   "metadata": {},
   "outputs": [
    {
     "data": {
      "text/plain": [
       "Text(0.5, 1.0, 'Verified_Account')"
      ]
     },
     "execution_count": 16,
     "metadata": {},
     "output_type": "execute_result"
    },
    {
     "data": {
      "image/png": "[encoded data removed]",
      "text/plain": [
       "<Figure size 800x500 with 1 Axes>"
      ]
     },
     "metadata": {},
     "output_type": "display_data"
    }
   ],
   "source": [
    "# Trực quan hóa đối với cột Verified_Account\n",
    "fig, ax = plt.subplots(figsize=(8,5))\n",
    "distribution_val = categorical_val_df.loc['distribution']\n",
    "\n",
    "ax.pie(list(distribution_val['Verified_Account'].values()), autopct='%.1f%%', startangle=90)\n",
    "ax.legend(loc='lower left', labels=list(distribution_val['Verified_Account'].keys()))\n",
    "ax.set_title('Verified_Account')"
   ]
  }
 ],
 "metadata": {
  "kernelspec": {
   "display_name": "Python 3 (ipykernel)",
   "language": "python",
   "name": "python3"
  },
  "language_info": {
   "codemirror_mode": {
    "name": "ipython",
    "version": 3
   },
   "file_extension": ".py",
   "mimetype": "text/x-python",
   "name": "python",
   "nbconvert_exporter": "python",
   "pygments_lexer": "ipython3",
   "version": "3.10.8"
  }
 },
 "nbformat": 4,
 "nbformat_minor": 5
}
