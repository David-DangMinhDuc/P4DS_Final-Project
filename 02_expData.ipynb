{
 "cells": [
  {
   "cell_type": "markdown",
   "id": "070cf5b9-790d-42d4-9c89-2b805f98aa49",
   "metadata": {},
   "source": [
    "## **Exploring Data** ##"
   ]
  },
  {
   "cell_type": "code",
   "execution_count": 1,
   "id": "c005ab1e-33c7-4872-b3b5-5cfc8a05b4ec",
   "metadata": {},
   "outputs": [],
   "source": [
    "import pandas as pd"
   ]
  },
  {
   "cell_type": "code",
   "execution_count": 2,
   "id": "31db09d3-ee64-4347-8260-344ec698c5eb",
   "metadata": {},
   "outputs": [],
   "source": [
    "data = pd.read_csv('Data/FPL_tweets.csv', delimiter=',')"
   ]
  },
  {
   "cell_type": "code",
   "execution_count": 3,
   "id": "59999037-a70f-4ab5-a695-8751e0e66b61",
   "metadata": {},
   "outputs": [
    {
     "name": "stdout",
     "output_type": "stream",
     "text": [
      "Dữ liệu có số dòng là: 114466\n",
      "Dữ liệu có số cột là: 13\n"
     ]
    }
   ],
   "source": [
    "numeber_rows, number_cols = data.shape\n",
    "\n",
    "print(f'Dữ liệu có số dòng là: {numeber_rows}')\n",
    "print(f'Dữ liệu có số cột là: {number_cols}')"
   ]
  },
  {
   "cell_type": "code",
   "execution_count": 4,
   "id": "bf562469-a3fa-4889-b691-1dcbad8c5a08",
   "metadata": {
    "scrolled": true
   },
   "outputs": [
    {
     "data": {
      "text/html": [
       "<div>\n",
       "<style scoped>\n",
       "    .dataframe tbody tr th:only-of-type {\n",
       "        vertical-align: middle;\n",
       "    }\n",
       "\n",
       "    .dataframe tbody tr th {\n",
       "        vertical-align: top;\n",
       "    }\n",
       "\n",
       "    .dataframe thead th {\n",
       "        text-align: right;\n",
       "    }\n",
       "</style>\n",
       "<table border=\"1\" class=\"dataframe\">\n",
       "  <thead>\n",
       "    <tr style=\"text-align: right;\">\n",
       "      <th></th>\n",
       "      <th>ID</th>\n",
       "      <th>Timestamp</th>\n",
       "      <th>User</th>\n",
       "      <th>Text</th>\n",
       "      <th>Hashtag</th>\n",
       "      <th>Retweets</th>\n",
       "      <th>Likes</th>\n",
       "      <th>Replies</th>\n",
       "      <th>Source</th>\n",
       "      <th>Location</th>\n",
       "      <th>Verified_Account</th>\n",
       "      <th>Followers</th>\n",
       "      <th>Following</th>\n",
       "    </tr>\n",
       "  </thead>\n",
       "  <tbody>\n",
       "    <tr>\n",
       "      <th>73987</th>\n",
       "      <td>1.179060e+18</td>\n",
       "      <td>2019-10-01 15:49:36+00:00</td>\n",
       "      <td>theturner</td>\n",
       "      <td>Meanwhile @andrew_leach has done an admirable ...</td>\n",
       "      <td>NaN</td>\n",
       "      <td>6</td>\n",
       "      <td>16</td>\n",
       "      <td>0</td>\n",
       "      <td>&lt;a href=\"https://mobile.twitter.com\" rel=\"nofo...</td>\n",
       "      <td>Calgary</td>\n",
       "      <td>True</td>\n",
       "      <td>14693</td>\n",
       "      <td>1597</td>\n",
       "    </tr>\n",
       "    <tr>\n",
       "      <th>58926</th>\n",
       "      <td>9.067800e+17</td>\n",
       "      <td>2017-09-10 07:21:45+00:00</td>\n",
       "      <td>bennoxnt</td>\n",
       "      <td>Why did I even pick Mane and Sane in the same ...</td>\n",
       "      <td>NaN</td>\n",
       "      <td>0</td>\n",
       "      <td>0</td>\n",
       "      <td>0</td>\n",
       "      <td>&lt;a href=\"http://twitter.com/download/android\" ...</td>\n",
       "      <td>NaN</td>\n",
       "      <td>False</td>\n",
       "      <td>171</td>\n",
       "      <td>588</td>\n",
       "    </tr>\n",
       "    <tr>\n",
       "      <th>75262</th>\n",
       "      <td>1.169090e+18</td>\n",
       "      <td>2019-09-04 03:14:37+00:00</td>\n",
       "      <td>joecup82</td>\n",
       "      <td>The premier fantasy football league in Hamilto...</td>\n",
       "      <td>['Grinderlife', '2timechamp']</td>\n",
       "      <td>0</td>\n",
       "      <td>0</td>\n",
       "      <td>0</td>\n",
       "      <td>&lt;a href=\"http://instagram.com\" rel=\"nofollow\"&gt;...</td>\n",
       "      <td>Hamilton, Ontario</td>\n",
       "      <td>False</td>\n",
       "      <td>782</td>\n",
       "      <td>394</td>\n",
       "    </tr>\n",
       "  </tbody>\n",
       "</table>\n",
       "</div>"
      ],
      "text/plain": [
       "                 ID                  Timestamp       User  \\\n",
       "73987  1.179060e+18  2019-10-01 15:49:36+00:00  theturner   \n",
       "58926  9.067800e+17  2017-09-10 07:21:45+00:00   bennoxnt   \n",
       "75262  1.169090e+18  2019-09-04 03:14:37+00:00   joecup82   \n",
       "\n",
       "                                                    Text  \\\n",
       "73987  Meanwhile @andrew_leach has done an admirable ...   \n",
       "58926  Why did I even pick Mane and Sane in the same ...   \n",
       "75262  The premier fantasy football league in Hamilto...   \n",
       "\n",
       "                             Hashtag  Retweets  Likes  Replies  \\\n",
       "73987                            NaN         6     16        0   \n",
       "58926                            NaN         0      0        0   \n",
       "75262  ['Grinderlife', '2timechamp']         0      0        0   \n",
       "\n",
       "                                                  Source           Location  \\\n",
       "73987  <a href=\"https://mobile.twitter.com\" rel=\"nofo...            Calgary   \n",
       "58926  <a href=\"http://twitter.com/download/android\" ...                NaN   \n",
       "75262  <a href=\"http://instagram.com\" rel=\"nofollow\">...  Hamilton, Ontario   \n",
       "\n",
       "       Verified_Account  Followers  Following  \n",
       "73987              True      14693       1597  \n",
       "58926             False        171        588  \n",
       "75262             False        782        394  "
      ]
     },
     "execution_count": 4,
     "metadata": {},
     "output_type": "execute_result"
    }
   ],
   "source": [
    "data.sample(3)\n",
    "\r\n"
   ]
  },
  {
   "cell_type": "markdown",
   "id": "94e39804-5dd3-4ba4-be9f-90d4f0774d51",
   "metadata": {},
   "source": [
    "Mỗi dòng trong bảng mô tả một tweet riêng biệt, bao gồm thông tin về người đăng, nội dung tweet, tương tác và các chi tiết khác.\r\n",
    "\r\n"
   ]
  },
  {
   "cell_type": "code",
   "execution_count": 5,
   "id": "5954a6f9-5702-4f60-b665-9a32d494acb1",
   "metadata": {},
   "outputs": [
    {
     "data": {
      "text/html": [
       "<div>\n",
       "<style scoped>\n",
       "    .dataframe tbody tr th:only-of-type {\n",
       "        vertical-align: middle;\n",
       "    }\n",
       "\n",
       "    .dataframe tbody tr th {\n",
       "        vertical-align: top;\n",
       "    }\n",
       "\n",
       "    .dataframe thead th {\n",
       "        text-align: right;\n",
       "    }\n",
       "</style>\n",
       "<table border=\"1\" class=\"dataframe\">\n",
       "  <thead>\n",
       "    <tr style=\"text-align: right;\">\n",
       "      <th></th>\n",
       "      <th>ID</th>\n",
       "      <th>Timestamp</th>\n",
       "      <th>User</th>\n",
       "      <th>Text</th>\n",
       "      <th>Hashtag</th>\n",
       "      <th>Retweets</th>\n",
       "      <th>Likes</th>\n",
       "      <th>Replies</th>\n",
       "      <th>Source</th>\n",
       "      <th>Location</th>\n",
       "      <th>Verified_Account</th>\n",
       "      <th>Followers</th>\n",
       "      <th>Following</th>\n",
       "    </tr>\n",
       "  </thead>\n",
       "  <tbody>\n",
       "  </tbody>\n",
       "</table>\n",
       "</div>"
      ],
      "text/plain": [
       "Empty DataFrame\n",
       "Columns: [ID, Timestamp, User, Text, Hashtag, Retweets, Likes, Replies, Source, Location, Verified_Account, Followers, Following]\n",
       "Index: []"
      ]
     },
     "execution_count": 5,
     "metadata": {},
     "output_type": "execute_result"
    }
   ],
   "source": [
    " data[data.duplicated()]"
   ]
  },
  {
   "cell_type": "markdown",
   "id": "f4a332f7-34b2-4e9f-b9ae-f77d547bbb0f",
   "metadata": {},
   "source": [
    "Dữ liệu trên không có dòng nào là trùng nhau"
   ]
  }
 ],
 "metadata": {
  "kernelspec": {
   "display_name": "Python 3 (ipykernel)",
   "language": "python",
   "name": "python3"
  },
  "language_info": {
   "codemirror_mode": {
    "name": "ipython",
    "version": 3
   },
   "file_extension": ".py",
   "mimetype": "text/x-python",
   "name": "python",
   "nbconvert_exporter": "python",
   "pygments_lexer": "ipython3",
   "version": "3.10.8"
  }
 },
 "nbformat": 4,
 "nbformat_minor": 5
}
